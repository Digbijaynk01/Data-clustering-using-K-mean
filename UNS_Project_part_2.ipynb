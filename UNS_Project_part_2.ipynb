{
 "cells": [
  {
   "cell_type": "markdown",
   "metadata": {},
   "source": [
    " # <span style='color :steelblue;font-size:35px' >Unsupervised Project</span> "
   ]
  },
  {
   "cell_type": "markdown",
   "metadata": {},
   "source": [
    " # <span style='color :steelblue;font-size:25px' >PART-2</span>"
   ]
  },
  {
   "cell_type": "markdown",
   "metadata": {},
   "source": [
    "### DOMAIN: Manufacturing \n",
    "- **CONTEXT:** Company X curates and packages wine across various vineyards spread throughout the country.\n",
    "- **DATA DESCRIPTION:** The data concerns the chemical composition of the wine and its respective quality.\n",
    " **Attribute Information:** \n",
    "   1. A, B, C, D: specific chemical composition measure of the wine\n",
    "   2. Quality: quality of wine [ Low and High ]\n",
    "- **PROJECT OBJECTIVE:** Goal is to build a synthetic data generation model using the existing data provided by the company.\n",
    "   1. Design a synthetic data generation model which can impute values [Attribute: Quality] wherever empty the company has missed recording the data."
   ]
  },
  {
   "cell_type": "markdown",
   "metadata": {},
   "source": [
    "## 1. Import and warehouse data:"
   ]
  },
  {
   "cell_type": "code",
   "execution_count": 1,
   "metadata": {},
   "outputs": [],
   "source": [
    "import pandas as pd\n",
    "import numpy as np\n",
    "\n",
    "import matplotlib.pyplot as plt\n",
    "%matplotlib inline\n",
    "\n",
    "import seaborn as sns\n",
    "sns.set(color_codes = True)\n",
    "\n",
    "import warnings as wn\n",
    "wn.filterwarnings('ignore')"
   ]
  },
  {
   "cell_type": "markdown",
   "metadata": {},
   "source": [
    "### Load dataset"
   ]
  },
  {
   "cell_type": "code",
   "execution_count": 2,
   "metadata": {},
   "outputs": [],
   "source": [
    "manuf_data_df = pd.read_excel('Part2 - Company.xlsx')"
   ]
  },
  {
   "cell_type": "code",
   "execution_count": 3,
   "metadata": {},
   "outputs": [
    {
     "name": "stdout",
     "output_type": "stream",
     "text": [
      "Shape of manuf_data_df: (61, 5)\n"
     ]
    },
    {
     "data": {
      "text/html": [
       "<div>\n",
       "<style scoped>\n",
       "    .dataframe tbody tr th:only-of-type {\n",
       "        vertical-align: middle;\n",
       "    }\n",
       "\n",
       "    .dataframe tbody tr th {\n",
       "        vertical-align: top;\n",
       "    }\n",
       "\n",
       "    .dataframe thead th {\n",
       "        text-align: right;\n",
       "    }\n",
       "</style>\n",
       "<table border=\"1\" class=\"dataframe\">\n",
       "  <thead>\n",
       "    <tr style=\"text-align: right;\">\n",
       "      <th></th>\n",
       "      <th>A</th>\n",
       "      <th>B</th>\n",
       "      <th>C</th>\n",
       "      <th>D</th>\n",
       "      <th>Quality</th>\n",
       "    </tr>\n",
       "  </thead>\n",
       "  <tbody>\n",
       "    <tr>\n",
       "      <th>0</th>\n",
       "      <td>47</td>\n",
       "      <td>27</td>\n",
       "      <td>45</td>\n",
       "      <td>108</td>\n",
       "      <td>Quality A</td>\n",
       "    </tr>\n",
       "    <tr>\n",
       "      <th>1</th>\n",
       "      <td>174</td>\n",
       "      <td>133</td>\n",
       "      <td>134</td>\n",
       "      <td>166</td>\n",
       "      <td>Quality B</td>\n",
       "    </tr>\n",
       "    <tr>\n",
       "      <th>2</th>\n",
       "      <td>159</td>\n",
       "      <td>163</td>\n",
       "      <td>135</td>\n",
       "      <td>131</td>\n",
       "      <td>NaN</td>\n",
       "    </tr>\n",
       "    <tr>\n",
       "      <th>3</th>\n",
       "      <td>61</td>\n",
       "      <td>23</td>\n",
       "      <td>3</td>\n",
       "      <td>44</td>\n",
       "      <td>Quality A</td>\n",
       "    </tr>\n",
       "    <tr>\n",
       "      <th>4</th>\n",
       "      <td>59</td>\n",
       "      <td>60</td>\n",
       "      <td>9</td>\n",
       "      <td>68</td>\n",
       "      <td>Quality A</td>\n",
       "    </tr>\n",
       "  </tbody>\n",
       "</table>\n",
       "</div>"
      ],
      "text/plain": [
       "     A    B    C    D    Quality\n",
       "0   47   27   45  108  Quality A\n",
       "1  174  133  134  166  Quality B\n",
       "2  159  163  135  131        NaN\n",
       "3   61   23    3   44  Quality A\n",
       "4   59   60    9   68  Quality A"
      ]
     },
     "execution_count": 3,
     "metadata": {},
     "output_type": "execute_result"
    }
   ],
   "source": [
    "print('Shape of manuf_data_df:', manuf_data_df.shape)\n",
    "manuf_data_df.head()"
   ]
  },
  {
   "cell_type": "markdown",
   "metadata": {},
   "source": [
    "- **There are 61 rows and 5 columns present in dataset.**\n",
    "- **From data it looks like some missing / null value present in Quality(target column).**"
   ]
  },
  {
   "cell_type": "markdown",
   "metadata": {},
   "source": [
    "## Null Value check"
   ]
  },
  {
   "cell_type": "code",
   "execution_count": 4,
   "metadata": {},
   "outputs": [
    {
     "data": {
      "text/plain": [
       "A           0\n",
       "B           0\n",
       "C           0\n",
       "D           0\n",
       "Quality    18\n",
       "dtype: int64"
      ]
     },
     "execution_count": 4,
     "metadata": {},
     "output_type": "execute_result"
    }
   ],
   "source": [
    "#check if any null is value is there\n",
    "manuf_data_df.isnull().sum()"
   ]
  },
  {
   "cell_type": "markdown",
   "metadata": {},
   "source": [
    "- **There is 18 missing value in Quality (which is target clumn).**"
   ]
  },
  {
   "cell_type": "markdown",
   "metadata": {},
   "source": [
    "## Check the distribution of the data"
   ]
  },
  {
   "cell_type": "code",
   "execution_count": 5,
   "metadata": {},
   "outputs": [
    {
     "data": {
      "image/png": "[encoded data removed]",
      "text/plain": [
       "<Figure size 1800x432 with 3 Axes>"
      ]
     },
     "metadata": {},
     "output_type": "display_data"
    },
    {
     "data": {
      "image/png": "[encoded data removed]",
      "text/plain": [
       "<Figure size 432x360 with 1 Axes>"
      ]
     },
     "metadata": {},
     "output_type": "display_data"
    }
   ],
   "source": [
    "#distribution for the continuous variable\n",
    "plt.figure(figsize=(25,6))\n",
    "\n",
    "#distribution of tenure\n",
    "plt.subplot(1,3,1)\n",
    "sns.histplot(manuf_data_df.A, kde= True, color='green', edgecolor = 'black');\n",
    "\n",
    "#distribution of TotalCharges\n",
    "plt.subplot(1,3,2)\n",
    "sns.histplot(manuf_data_df.B, kde= True, color='blue', edgecolor = 'black');\n",
    "\n",
    "#distribution of MonthlyCharges\n",
    "plt.subplot(1,3,3)\n",
    "sns.histplot(manuf_data_df.C, kde= True, color='purple', edgecolor = 'black');\n",
    "\n",
    "#distribution for the continuous variable\n",
    "plt.figure(figsize=(6,5))\n",
    "\n",
    "#distribution of tenure\n",
    "plt.subplot(1,1,1)\n",
    "sns.histplot(manuf_data_df.D, kde= True, color='green', edgecolor = 'black');"
   ]
  },
  {
   "cell_type": "markdown",
   "metadata": {},
   "source": [
    "- From data it looks like all data followed similar range.\n",
    "- Most of data distributed in similar way with little variance."
   ]
  },
  {
   "cell_type": "code",
   "execution_count": 6,
   "metadata": {},
   "outputs": [
    {
     "name": "stdout",
     "output_type": "stream",
     "text": [
      "Quality A    26\n",
      "Quality B    17\n",
      "Name: Quality, dtype: int64\n"
     ]
    },
    {
     "data": {
      "text/plain": [
       "<AxesSubplot:>"
      ]
     },
     "execution_count": 6,
     "metadata": {},
     "output_type": "execute_result"
    },
    {
     "data": {
      "image/png": "[encoded data removed]",
      "text/plain": [
       "<Figure size 432x288 with 1 Axes>"
      ]
     },
     "metadata": {},
     "output_type": "display_data"
    }
   ],
   "source": [
    "#Distribution of the Quality column\n",
    "print(manuf_data_df['Quality'].value_counts())\n",
    "manuf_data_df['Quality'].value_counts().plot(kind='bar')"
   ]
  },
  {
   "cell_type": "markdown",
   "metadata": {},
   "source": [
    "- Since there are 18 null entery in Quality column, the distribution showing less data point in each category."
   ]
  },
  {
   "cell_type": "markdown",
   "metadata": {},
   "source": [
    "## Check if any outliers"
   ]
  },
  {
   "cell_type": "code",
   "execution_count": 7,
   "metadata": {},
   "outputs": [],
   "source": [
    "#Box plot to check if any outliers in data\n",
    "#define one fucniton to do box plot\n",
    "def box_plot(data, columnlist):\n",
    "    dataset = data\n",
    "    column_list = columnlist\n",
    "    length_columnlist = len(columnlist)\n",
    "    \n",
    "    #plot colors\n",
    "    colors_list = ['lightgreen', 'lightblue', 'pink']\n",
    "    \n",
    "    if(length_columnlist > 3):\n",
    "        length_columnlist = 3\n",
    "    \n",
    "    #plot the graph\n",
    "    plt.figure(figsize=(15, 10))\n",
    "    for i in range(length_columnlist):\n",
    "        plt.subplot(3, 3, i+1)\n",
    "        sns.boxplot(data= dataset, x=column_list[i], color = colors_list[i] )"
   ]
  },
  {
   "cell_type": "code",
   "execution_count": 8,
   "metadata": {},
   "outputs": [
    {
     "data": {
      "image/png": "[encoded data removed]",
      "text/plain": [
       "<Figure size 1080x720 with 3 Axes>"
      ]
     },
     "metadata": {},
     "output_type": "display_data"
    }
   ],
   "source": [
    "#box plot\n",
    "box_plot(manuf_data_df, ['A', 'B', 'C'])"
   ]
  },
  {
   "cell_type": "code",
   "execution_count": 9,
   "metadata": {},
   "outputs": [
    {
     "data": {
      "image/png": "[encoded data removed]",
      "text/plain": [
       "<Figure size 1080x720 with 1 Axes>"
      ]
     },
     "metadata": {},
     "output_type": "display_data"
    }
   ],
   "source": [
    "#box plot\n",
    "box_plot(manuf_data_df, ['D'])"
   ]
  },
  {
   "cell_type": "markdown",
   "metadata": {},
   "source": [
    "- **From boxplot, it indicates there is no outliers in data.**"
   ]
  },
  {
   "cell_type": "markdown",
   "metadata": {},
   "source": [
    "### Multivariant analysis"
   ]
  },
  {
   "cell_type": "code",
   "execution_count": 10,
   "metadata": {},
   "outputs": [
    {
     "data": {
      "text/plain": [
       "<seaborn.axisgrid.PairGrid at 0x236b6d65a60>"
      ]
     },
     "execution_count": 10,
     "metadata": {},
     "output_type": "execute_result"
    },
    {
     "data": {
      "image/png": "[encoded data removed]",
      "text/plain": [
       "<Figure size 720x720 with 20 Axes>"
      ]
     },
     "metadata": {},
     "output_type": "display_data"
    }
   ],
   "source": [
    "#pair plot\n",
    "sns.pairplot(manuf_data_df, diag_kind='kde')"
   ]
  },
  {
   "cell_type": "markdown",
   "metadata": {},
   "source": [
    "- **From diagonal it looks like most of data distributed in two gussians.**"
   ]
  },
  {
   "cell_type": "markdown",
   "metadata": {},
   "source": [
    "## Our Goal is to build a synthetic data generation model using the existing data provided by the company."
   ]
  },
  {
   "cell_type": "markdown",
   "metadata": {},
   "source": [
    "### Split the data set into dependant and Independent variable"
   ]
  },
  {
   "cell_type": "code",
   "execution_count": 11,
   "metadata": {},
   "outputs": [],
   "source": [
    "#separate dependant and independent variable\n",
    "X = manuf_data_df.drop('Quality', axis = 1)\n",
    "y = manuf_data_df['Quality']"
   ]
  },
  {
   "cell_type": "markdown",
   "metadata": {},
   "source": [
    "- **\"Quality\" is our target variable and rest are independent variable.**\n"
   ]
  },
  {
   "cell_type": "markdown",
   "metadata": {},
   "source": [
    "### Apply Feature Scaling"
   ]
  },
  {
   "cell_type": "code",
   "execution_count": 12,
   "metadata": {},
   "outputs": [],
   "source": [
    "from scipy.stats import zscore\n",
    "X_scaled = X.apply(zscore)"
   ]
  },
  {
   "cell_type": "markdown",
   "metadata": {},
   "source": [
    "- **As we saw the data have different sacales. So standard scaller applied to make all data in same same scale.**"
   ]
  },
  {
   "cell_type": "markdown",
   "metadata": {},
   "source": [
    "### Use K Means and Hierarchical clustering to find out the optimal number of clusters in the data."
   ]
  },
  {
   "cell_type": "markdown",
   "metadata": {},
   "source": [
    "## K-Mean Clustering\n",
    "\n",
    "- Check with different K value to find the best no.of clusters."
   ]
  },
  {
   "cell_type": "code",
   "execution_count": 13,
   "metadata": {},
   "outputs": [
    {
     "data": {
      "text/plain": [
       "Text(0.5, 1.0, 'Selecting k with the Elbow Method')"
      ]
     },
     "execution_count": 13,
     "metadata": {},
     "output_type": "execute_result"
    },
    {
     "data": {
      "image/png": "[encoded data removed]",
      "text/plain": [
       "<Figure size 864x432 with 1 Axes>"
      ]
     },
     "metadata": {},
     "output_type": "display_data"
    }
   ],
   "source": [
    "#Find the optimal no.of cluster\n",
    "from sklearn.cluster import KMeans\n",
    "from scipy.spatial.distance import cdist\n",
    "clusters=range(1,10)\n",
    "meanDistortions=[]\n",
    "\n",
    "for k in clusters:\n",
    "    model=KMeans(n_clusters=k)\n",
    "    model.fit(X_scaled)\n",
    "    prediction=model.predict(X_scaled)\n",
    "    meanDistortions.append(sum(np.min(cdist(X_scaled, model.cluster_centers_, 'euclidean'), axis=1)) / X_scaled.shape[0])\n",
    "\n",
    "\n",
    "#plot Elbow graph    \n",
    "plt.figure(figsize=(12,6))\n",
    "plt.plot(clusters, meanDistortions, 'bx-')\n",
    "plt.xlabel('k')\n",
    "plt.ylabel('Average distortion')\n",
    "plt.title('Selecting k with the Elbow Method')"
   ]
  },
  {
   "cell_type": "markdown",
   "metadata": {},
   "source": [
    "- **From Elbow graph it looks like there are group of two clusers present in data set.**"
   ]
  },
  {
   "cell_type": "markdown",
   "metadata": {},
   "source": [
    "### Check the WCSS score"
   ]
  },
  {
   "cell_type": "code",
   "execution_count": 14,
   "metadata": {},
   "outputs": [
    {
     "data": {
      "text/plain": [
       "[244.00000000000006,\n",
       " 45.52255176619497,\n",
       " 38.079632514129,\n",
       " 33.3761547421165,\n",
       " 28.677860179747356,\n",
       " 24.916509291173394,\n",
       " 22.042599581687906,\n",
       " 19.29142499140996,\n",
       " 17.589131340541037,\n",
       " 16.209245603094722]"
      ]
     },
     "execution_count": 14,
     "metadata": {},
     "output_type": "execute_result"
    }
   ],
   "source": [
    "#check within cluster sum of squre(WCSS) score.\n",
    "wcss= []\n",
    "for i in range(1,11):\n",
    "    km = KMeans(n_clusters = i, random_state=1)\n",
    "    km.fit(X_scaled)\n",
    "    wcss.append(km.inertia_)\n",
    "    \n",
    "#print WCSS score\n",
    "wcss"
   ]
  },
  {
   "cell_type": "markdown",
   "metadata": {},
   "source": [
    "- **From WCSS it looks after 45.52 the decrease in wcss value is minimal. So we can chose 2 cluser is for better classification for data**"
   ]
  },
  {
   "cell_type": "markdown",
   "metadata": {},
   "source": [
    "### Check the silhoutteScore"
   ]
  },
  {
   "cell_type": "code",
   "execution_count": 15,
   "metadata": {},
   "outputs": [
    {
     "data": {
      "text/plain": [
       "[0.6891674125195145,\n",
       " 0.4950584223752009,\n",
       " 0.4850487671825569,\n",
       " 0.22520660233064826,\n",
       " 0.2388204160587547,\n",
       " 0.24849011210416888,\n",
       " 0.25570096669833103,\n",
       " 0.2523227100775014,\n",
       " 0.260465123882134]"
      ]
     },
     "execution_count": 15,
     "metadata": {},
     "output_type": "execute_result"
    }
   ],
   "source": [
    "# check the shilhoutte score\n",
    "from sklearn.metrics import silhouette_score, silhouette_samples\n",
    "silhoutteScore = []\n",
    "for i in range(2, 11):\n",
    "    km = KMeans(n_clusters = i, random_state=1)\n",
    "    km.fit(X_scaled)\n",
    "    silhoutteScore.append(silhouette_score(X_scaled, km.labels_))\n",
    "    \n",
    "#silhoutte score\n",
    "silhoutteScore"
   ]
  },
  {
   "cell_type": "code",
   "execution_count": 16,
   "metadata": {},
   "outputs": [
    {
     "data": {
      "text/plain": [
       "[<matplotlib.lines.Line2D at 0x236b8163b20>]"
      ]
     },
     "execution_count": 16,
     "metadata": {},
     "output_type": "execute_result"
    },
    {
     "data": {
      "image/png": "[encoded data removed]",
      "text/plain": [
       "<Figure size 432x288 with 1 Axes>"
      ]
     },
     "metadata": {},
     "output_type": "display_data"
    }
   ],
   "source": [
    "#plot silhoutte score\n",
    "plt.xlabel('k')\n",
    "plt.ylabel('Silhoutte Score')\n",
    "plt.xlabel('Silhoutte distribution with different K')\n",
    "plt.plot(range(2,11), silhoutteScore)"
   ]
  },
  {
   "cell_type": "markdown",
   "metadata": {},
   "source": [
    "- **SilhoutteScore also high for two cluster.**"
   ]
  },
  {
   "cell_type": "markdown",
   "metadata": {},
   "source": [
    "## Hierarchical clustering to find out the optimal number of clusters in the data"
   ]
  },
  {
   "cell_type": "code",
   "execution_count": 17,
   "metadata": {},
   "outputs": [],
   "source": [
    "#import libraries\n",
    "from scipy.cluster.hierarchy import cophenet, dendrogram, linkage\n",
    "from scipy.spatial.distance import pdist "
   ]
  },
  {
   "cell_type": "code",
   "execution_count": 18,
   "metadata": {},
   "outputs": [],
   "source": [
    "#using Average linkage\n",
    "link_method = linkage(X_scaled, metric='euclidean', method= 'average')"
   ]
  },
  {
   "cell_type": "code",
   "execution_count": 19,
   "metadata": {},
   "outputs": [
    {
     "name": "stdout",
     "output_type": "stream",
     "text": [
      "Cophenete correlation: 0.9455524381136698\n"
     ]
    }
   ],
   "source": [
    "c, coph_dists = cophenet(link_method , pdist(X_scaled))\n",
    "print(\"Cophenete correlation:\", c)"
   ]
  },
  {
   "cell_type": "markdown",
   "metadata": {},
   "source": [
    "- **As we can see the cophenete correlation value it nearly 95%. Closer two one means the data are properly separated based on the similarty.**"
   ]
  },
  {
   "cell_type": "markdown",
   "metadata": {},
   "source": [
    "### Dendogram to check the visual representation of data"
   ]
  },
  {
   "cell_type": "code",
   "execution_count": 20,
   "metadata": {},
   "outputs": [
    {
     "data": {
      "image/png": "[encoded data removed]",
      "text/plain": [
       "<Figure size 720x360 with 1 Axes>"
      ]
     },
     "metadata": {},
     "output_type": "display_data"
    }
   ],
   "source": [
    "plt.figure(figsize=(10, 5))\n",
    "plt.title('Hierarchical Clustering Dendogram')\n",
    "plt.xlabel('sample index')\n",
    "plt.ylabel('Distance')\n",
    "dendrogram(link_method, \n",
    "           leaf_rotation=90.,\n",
    "           color_threshold = 40, \n",
    "           leaf_font_size=8.\n",
    "          )\n",
    "plt.tight_layout()"
   ]
  },
  {
   "cell_type": "markdown",
   "metadata": {},
   "source": [
    "- **As we can see from dendogram the data is properly divided into two clusters.**"
   ]
  },
  {
   "cell_type": "code",
   "execution_count": 21,
   "metadata": {},
   "outputs": [],
   "source": [
    "#AgglomerativeClustering clustering with 2 cluser\n",
    "from sklearn.cluster import AgglomerativeClustering \n",
    "from sklearn.metrics import silhouette_score\n",
    "import scipy.cluster.hierarchy as shc\n",
    "\n",
    "agg = AgglomerativeClustering(n_clusters=2, affinity='euclidean', linkage='average')\n",
    "clusters=agg.fit_predict(X_scaled)\n",
    "\n",
    "manuf_data_df['Agg_label'] = agg.labels_"
   ]
  },
  {
   "cell_type": "code",
   "execution_count": 22,
   "metadata": {},
   "outputs": [
    {
     "data": {
      "text/html": [
       "<div>\n",
       "<style scoped>\n",
       "    .dataframe tbody tr th:only-of-type {\n",
       "        vertical-align: middle;\n",
       "    }\n",
       "\n",
       "    .dataframe tbody tr th {\n",
       "        vertical-align: top;\n",
       "    }\n",
       "\n",
       "    .dataframe thead th {\n",
       "        text-align: right;\n",
       "    }\n",
       "</style>\n",
       "<table border=\"1\" class=\"dataframe\">\n",
       "  <thead>\n",
       "    <tr style=\"text-align: right;\">\n",
       "      <th></th>\n",
       "      <th>A</th>\n",
       "      <th>B</th>\n",
       "      <th>C</th>\n",
       "      <th>D</th>\n",
       "      <th>Quality</th>\n",
       "      <th>Agg_label</th>\n",
       "    </tr>\n",
       "  </thead>\n",
       "  <tbody>\n",
       "    <tr>\n",
       "      <th>0</th>\n",
       "      <td>47</td>\n",
       "      <td>27</td>\n",
       "      <td>45</td>\n",
       "      <td>108</td>\n",
       "      <td>Quality A</td>\n",
       "      <td>0</td>\n",
       "    </tr>\n",
       "    <tr>\n",
       "      <th>1</th>\n",
       "      <td>174</td>\n",
       "      <td>133</td>\n",
       "      <td>134</td>\n",
       "      <td>166</td>\n",
       "      <td>Quality B</td>\n",
       "      <td>1</td>\n",
       "    </tr>\n",
       "    <tr>\n",
       "      <th>2</th>\n",
       "      <td>159</td>\n",
       "      <td>163</td>\n",
       "      <td>135</td>\n",
       "      <td>131</td>\n",
       "      <td>NaN</td>\n",
       "      <td>1</td>\n",
       "    </tr>\n",
       "    <tr>\n",
       "      <th>3</th>\n",
       "      <td>61</td>\n",
       "      <td>23</td>\n",
       "      <td>3</td>\n",
       "      <td>44</td>\n",
       "      <td>Quality A</td>\n",
       "      <td>0</td>\n",
       "    </tr>\n",
       "    <tr>\n",
       "      <th>4</th>\n",
       "      <td>59</td>\n",
       "      <td>60</td>\n",
       "      <td>9</td>\n",
       "      <td>68</td>\n",
       "      <td>Quality A</td>\n",
       "      <td>0</td>\n",
       "    </tr>\n",
       "  </tbody>\n",
       "</table>\n",
       "</div>"
      ],
      "text/plain": [
       "     A    B    C    D    Quality  Agg_label\n",
       "0   47   27   45  108  Quality A          0\n",
       "1  174  133  134  166  Quality B          1\n",
       "2  159  163  135  131        NaN          1\n",
       "3   61   23    3   44  Quality A          0\n",
       "4   59   60    9   68  Quality A          0"
      ]
     },
     "execution_count": 22,
     "metadata": {},
     "output_type": "execute_result"
    }
   ],
   "source": [
    "manuf_data_df.head()"
   ]
  },
  {
   "cell_type": "markdown",
   "metadata": {},
   "source": [
    "### Note:\n",
    "- From both K-Mean and Hierarchical clustering we obsered data point distributed into two clusters.\n",
    "- So we ll consider 2 is the best no.of clusters the label the data."
   ]
  },
  {
   "cell_type": "markdown",
   "metadata": {},
   "source": [
    "### K-Mean with 2 clusters"
   ]
  },
  {
   "cell_type": "code",
   "execution_count": 23,
   "metadata": {},
   "outputs": [
    {
     "data": {
      "text/plain": [
       "array([[-0.97623853, -0.97020968, -0.98857712, -0.98138597],\n",
       "       [ 0.8283236 ,  0.82320821,  0.83879271,  0.83269113]])"
      ]
     },
     "execution_count": 23,
     "metadata": {},
     "output_type": "execute_result"
    }
   ],
   "source": [
    "# Let us first start with K = 2\n",
    "final_model=KMeans(2, random_state = 1)\n",
    "final_model.fit(X_scaled)\n",
    "prediction=final_model.predict(X_scaled)\n",
    "\n",
    "centroids = final_model.cluster_centers_\n",
    "centroids"
   ]
  },
  {
   "cell_type": "markdown",
   "metadata": {},
   "source": [
    "- **As we can observed from the centroied of both the clusers are well separables for each variables between two clusters.**"
   ]
  },
  {
   "cell_type": "markdown",
   "metadata": {},
   "source": [
    "### Append the preidtion label got from clustering in original data set"
   ]
  },
  {
   "cell_type": "code",
   "execution_count": 24,
   "metadata": {},
   "outputs": [
    {
     "name": "stdout",
     "output_type": "stream",
     "text": [
      "Groups Assigned : \n",
      "\n"
     ]
    },
    {
     "data": {
      "text/html": [
       "<div>\n",
       "<style scoped>\n",
       "    .dataframe tbody tr th:only-of-type {\n",
       "        vertical-align: middle;\n",
       "    }\n",
       "\n",
       "    .dataframe tbody tr th {\n",
       "        vertical-align: top;\n",
       "    }\n",
       "\n",
       "    .dataframe thead th {\n",
       "        text-align: right;\n",
       "    }\n",
       "</style>\n",
       "<table border=\"1\" class=\"dataframe\">\n",
       "  <thead>\n",
       "    <tr style=\"text-align: right;\">\n",
       "      <th></th>\n",
       "      <th>A</th>\n",
       "      <th>B</th>\n",
       "      <th>C</th>\n",
       "      <th>D</th>\n",
       "      <th>Quality</th>\n",
       "      <th>Agg_label</th>\n",
       "      <th>group</th>\n",
       "    </tr>\n",
       "  </thead>\n",
       "  <tbody>\n",
       "    <tr>\n",
       "      <th>0</th>\n",
       "      <td>47</td>\n",
       "      <td>27</td>\n",
       "      <td>45</td>\n",
       "      <td>108</td>\n",
       "      <td>Quality A</td>\n",
       "      <td>0</td>\n",
       "      <td>0</td>\n",
       "    </tr>\n",
       "    <tr>\n",
       "      <th>1</th>\n",
       "      <td>174</td>\n",
       "      <td>133</td>\n",
       "      <td>134</td>\n",
       "      <td>166</td>\n",
       "      <td>Quality B</td>\n",
       "      <td>1</td>\n",
       "      <td>1</td>\n",
       "    </tr>\n",
       "    <tr>\n",
       "      <th>2</th>\n",
       "      <td>159</td>\n",
       "      <td>163</td>\n",
       "      <td>135</td>\n",
       "      <td>131</td>\n",
       "      <td>NaN</td>\n",
       "      <td>1</td>\n",
       "      <td>1</td>\n",
       "    </tr>\n",
       "    <tr>\n",
       "      <th>3</th>\n",
       "      <td>61</td>\n",
       "      <td>23</td>\n",
       "      <td>3</td>\n",
       "      <td>44</td>\n",
       "      <td>Quality A</td>\n",
       "      <td>0</td>\n",
       "      <td>0</td>\n",
       "    </tr>\n",
       "    <tr>\n",
       "      <th>4</th>\n",
       "      <td>59</td>\n",
       "      <td>60</td>\n",
       "      <td>9</td>\n",
       "      <td>68</td>\n",
       "      <td>Quality A</td>\n",
       "      <td>0</td>\n",
       "      <td>0</td>\n",
       "    </tr>\n",
       "  </tbody>\n",
       "</table>\n",
       "</div>"
      ],
      "text/plain": [
       "     A    B    C    D    Quality  Agg_label  group\n",
       "0   47   27   45  108  Quality A          0      0\n",
       "1  174  133  134  166  Quality B          1      1\n",
       "2  159  163  135  131        NaN          1      1\n",
       "3   61   23    3   44  Quality A          0      0\n",
       "4   59   60    9   68  Quality A          0      0"
      ]
     },
     "execution_count": 24,
     "metadata": {},
     "output_type": "execute_result"
    }
   ],
   "source": [
    "#Append the prediction \n",
    "manuf_data_df['group'] = prediction\n",
    "print(\"Groups Assigned : \\n\")\n",
    "manuf_data_df.head()"
   ]
  },
  {
   "cell_type": "markdown",
   "metadata": {},
   "source": [
    "- **We can observed form the cluster label, all \"Quality A\" wine are part of cluster_0 and \"Quality B\" wines are part of cluster_1.**"
   ]
  },
  {
   "cell_type": "code",
   "execution_count": 25,
   "metadata": {},
   "outputs": [
    {
     "name": "stdout",
     "output_type": "stream",
     "text": [
      "1    33\n",
      "0    28\n",
      "Name: group, dtype: int64\n"
     ]
    },
    {
     "data": {
      "text/plain": [
       "<AxesSubplot:>"
      ]
     },
     "execution_count": 25,
     "metadata": {},
     "output_type": "execute_result"
    },
    {
     "data": {
      "image/png": "[encoded data removed]",
      "text/plain": [
       "<Figure size 432x288 with 1 Axes>"
      ]
     },
     "metadata": {},
     "output_type": "display_data"
    }
   ],
   "source": [
    "#Count of data points in each cluster\n",
    "print(manuf_data_df.group.value_counts())\n",
    "manuf_data_df.group.value_counts().plot(kind='bar')"
   ]
  },
  {
   "cell_type": "markdown",
   "metadata": {},
   "source": [
    "- Cluster_0 have 28 data points.\n",
    "- Cluster_1 have 33 data points."
   ]
  },
  {
   "cell_type": "code",
   "execution_count": 26,
   "metadata": {},
   "outputs": [
    {
     "data": {
      "text/html": [
       "<div>\n",
       "<style scoped>\n",
       "    .dataframe tbody tr th:only-of-type {\n",
       "        vertical-align: middle;\n",
       "    }\n",
       "\n",
       "    .dataframe tbody tr th {\n",
       "        vertical-align: top;\n",
       "    }\n",
       "\n",
       "    .dataframe thead th {\n",
       "        text-align: right;\n",
       "    }\n",
       "</style>\n",
       "<table border=\"1\" class=\"dataframe\">\n",
       "  <thead>\n",
       "    <tr style=\"text-align: right;\">\n",
       "      <th></th>\n",
       "      <th>A</th>\n",
       "      <th>B</th>\n",
       "      <th>C</th>\n",
       "      <th>D</th>\n",
       "      <th>Quality</th>\n",
       "      <th>Agg_label</th>\n",
       "      <th>group</th>\n",
       "    </tr>\n",
       "  </thead>\n",
       "  <tbody>\n",
       "    <tr>\n",
       "      <th>0</th>\n",
       "      <td>47</td>\n",
       "      <td>27</td>\n",
       "      <td>45</td>\n",
       "      <td>108</td>\n",
       "      <td>Quality A</td>\n",
       "      <td>0</td>\n",
       "      <td>0</td>\n",
       "    </tr>\n",
       "    <tr>\n",
       "      <th>3</th>\n",
       "      <td>61</td>\n",
       "      <td>23</td>\n",
       "      <td>3</td>\n",
       "      <td>44</td>\n",
       "      <td>Quality A</td>\n",
       "      <td>0</td>\n",
       "      <td>0</td>\n",
       "    </tr>\n",
       "    <tr>\n",
       "      <th>4</th>\n",
       "      <td>59</td>\n",
       "      <td>60</td>\n",
       "      <td>9</td>\n",
       "      <td>68</td>\n",
       "      <td>Quality A</td>\n",
       "      <td>0</td>\n",
       "      <td>0</td>\n",
       "    </tr>\n",
       "    <tr>\n",
       "      <th>6</th>\n",
       "      <td>34</td>\n",
       "      <td>28</td>\n",
       "      <td>78</td>\n",
       "      <td>22</td>\n",
       "      <td>Quality A</td>\n",
       "      <td>0</td>\n",
       "      <td>0</td>\n",
       "    </tr>\n",
       "    <tr>\n",
       "      <th>10</th>\n",
       "      <td>76</td>\n",
       "      <td>94</td>\n",
       "      <td>107</td>\n",
       "      <td>37</td>\n",
       "      <td>Quality A</td>\n",
       "      <td>0</td>\n",
       "      <td>0</td>\n",
       "    </tr>\n",
       "    <tr>\n",
       "      <th>12</th>\n",
       "      <td>27</td>\n",
       "      <td>106</td>\n",
       "      <td>57</td>\n",
       "      <td>37</td>\n",
       "      <td>Quality A</td>\n",
       "      <td>0</td>\n",
       "      <td>0</td>\n",
       "    </tr>\n",
       "    <tr>\n",
       "      <th>13</th>\n",
       "      <td>45</td>\n",
       "      <td>76</td>\n",
       "      <td>56</td>\n",
       "      <td>57</td>\n",
       "      <td>Quality A</td>\n",
       "      <td>0</td>\n",
       "      <td>0</td>\n",
       "    </tr>\n",
       "    <tr>\n",
       "      <th>16</th>\n",
       "      <td>4</td>\n",
       "      <td>61</td>\n",
       "      <td>72</td>\n",
       "      <td>98</td>\n",
       "      <td>Quality A</td>\n",
       "      <td>0</td>\n",
       "      <td>0</td>\n",
       "    </tr>\n",
       "    <tr>\n",
       "      <th>17</th>\n",
       "      <td>96</td>\n",
       "      <td>109</td>\n",
       "      <td>75</td>\n",
       "      <td>34</td>\n",
       "      <td>Quality A</td>\n",
       "      <td>0</td>\n",
       "      <td>0</td>\n",
       "    </tr>\n",
       "    <tr>\n",
       "      <th>21</th>\n",
       "      <td>5</td>\n",
       "      <td>100</td>\n",
       "      <td>32</td>\n",
       "      <td>110</td>\n",
       "      <td>Quality A</td>\n",
       "      <td>0</td>\n",
       "      <td>0</td>\n",
       "    </tr>\n",
       "    <tr>\n",
       "      <th>22</th>\n",
       "      <td>3</td>\n",
       "      <td>63</td>\n",
       "      <td>109</td>\n",
       "      <td>67</td>\n",
       "      <td>Quality A</td>\n",
       "      <td>0</td>\n",
       "      <td>0</td>\n",
       "    </tr>\n",
       "    <tr>\n",
       "      <th>24</th>\n",
       "      <td>101</td>\n",
       "      <td>104</td>\n",
       "      <td>95</td>\n",
       "      <td>49</td>\n",
       "      <td>Quality A</td>\n",
       "      <td>0</td>\n",
       "      <td>0</td>\n",
       "    </tr>\n",
       "    <tr>\n",
       "      <th>25</th>\n",
       "      <td>103</td>\n",
       "      <td>74</td>\n",
       "      <td>59</td>\n",
       "      <td>17</td>\n",
       "      <td>Quality A</td>\n",
       "      <td>0</td>\n",
       "      <td>0</td>\n",
       "    </tr>\n",
       "    <tr>\n",
       "      <th>28</th>\n",
       "      <td>85</td>\n",
       "      <td>58</td>\n",
       "      <td>44</td>\n",
       "      <td>32</td>\n",
       "      <td>Quality A</td>\n",
       "      <td>0</td>\n",
       "      <td>0</td>\n",
       "    </tr>\n",
       "    <tr>\n",
       "      <th>29</th>\n",
       "      <td>29</td>\n",
       "      <td>49</td>\n",
       "      <td>6</td>\n",
       "      <td>35</td>\n",
       "      <td>NaN</td>\n",
       "      <td>0</td>\n",
       "      <td>0</td>\n",
       "    </tr>\n",
       "    <tr>\n",
       "      <th>38</th>\n",
       "      <td>44</td>\n",
       "      <td>104</td>\n",
       "      <td>8</td>\n",
       "      <td>21</td>\n",
       "      <td>Quality A</td>\n",
       "      <td>0</td>\n",
       "      <td>0</td>\n",
       "    </tr>\n",
       "    <tr>\n",
       "      <th>39</th>\n",
       "      <td>102</td>\n",
       "      <td>5</td>\n",
       "      <td>59</td>\n",
       "      <td>72</td>\n",
       "      <td>Quality A</td>\n",
       "      <td>0</td>\n",
       "      <td>0</td>\n",
       "    </tr>\n",
       "    <tr>\n",
       "      <th>41</th>\n",
       "      <td>73</td>\n",
       "      <td>22</td>\n",
       "      <td>83</td>\n",
       "      <td>31</td>\n",
       "      <td>Quality A</td>\n",
       "      <td>0</td>\n",
       "      <td>0</td>\n",
       "    </tr>\n",
       "    <tr>\n",
       "      <th>42</th>\n",
       "      <td>48</td>\n",
       "      <td>68</td>\n",
       "      <td>98</td>\n",
       "      <td>51</td>\n",
       "      <td>Quality A</td>\n",
       "      <td>0</td>\n",
       "      <td>0</td>\n",
       "    </tr>\n",
       "    <tr>\n",
       "      <th>44</th>\n",
       "      <td>22</td>\n",
       "      <td>9</td>\n",
       "      <td>25</td>\n",
       "      <td>76</td>\n",
       "      <td>Quality A</td>\n",
       "      <td>0</td>\n",
       "      <td>0</td>\n",
       "    </tr>\n",
       "    <tr>\n",
       "      <th>45</th>\n",
       "      <td>44</td>\n",
       "      <td>90</td>\n",
       "      <td>6</td>\n",
       "      <td>8</td>\n",
       "      <td>Quality A</td>\n",
       "      <td>0</td>\n",
       "      <td>0</td>\n",
       "    </tr>\n",
       "    <tr>\n",
       "      <th>47</th>\n",
       "      <td>28</td>\n",
       "      <td>91</td>\n",
       "      <td>17</td>\n",
       "      <td>17</td>\n",
       "      <td>Quality A</td>\n",
       "      <td>0</td>\n",
       "      <td>0</td>\n",
       "    </tr>\n",
       "    <tr>\n",
       "      <th>50</th>\n",
       "      <td>47</td>\n",
       "      <td>44</td>\n",
       "      <td>66</td>\n",
       "      <td>41</td>\n",
       "      <td>Quality A</td>\n",
       "      <td>0</td>\n",
       "      <td>0</td>\n",
       "    </tr>\n",
       "    <tr>\n",
       "      <th>51</th>\n",
       "      <td>110</td>\n",
       "      <td>33</td>\n",
       "      <td>76</td>\n",
       "      <td>3</td>\n",
       "      <td>Quality A</td>\n",
       "      <td>0</td>\n",
       "      <td>0</td>\n",
       "    </tr>\n",
       "    <tr>\n",
       "      <th>53</th>\n",
       "      <td>91</td>\n",
       "      <td>13</td>\n",
       "      <td>14</td>\n",
       "      <td>88</td>\n",
       "      <td>Quality A</td>\n",
       "      <td>0</td>\n",
       "      <td>0</td>\n",
       "    </tr>\n",
       "    <tr>\n",
       "      <th>54</th>\n",
       "      <td>70</td>\n",
       "      <td>96</td>\n",
       "      <td>70</td>\n",
       "      <td>103</td>\n",
       "      <td>Quality A</td>\n",
       "      <td>0</td>\n",
       "      <td>0</td>\n",
       "    </tr>\n",
       "    <tr>\n",
       "      <th>55</th>\n",
       "      <td>103</td>\n",
       "      <td>60</td>\n",
       "      <td>15</td>\n",
       "      <td>56</td>\n",
       "      <td>Quality A</td>\n",
       "      <td>0</td>\n",
       "      <td>0</td>\n",
       "    </tr>\n",
       "    <tr>\n",
       "      <th>58</th>\n",
       "      <td>88</td>\n",
       "      <td>39</td>\n",
       "      <td>9</td>\n",
       "      <td>102</td>\n",
       "      <td>NaN</td>\n",
       "      <td>0</td>\n",
       "      <td>0</td>\n",
       "    </tr>\n",
       "  </tbody>\n",
       "</table>\n",
       "</div>"
      ],
      "text/plain": [
       "      A    B    C    D    Quality  Agg_label  group\n",
       "0    47   27   45  108  Quality A          0      0\n",
       "3    61   23    3   44  Quality A          0      0\n",
       "4    59   60    9   68  Quality A          0      0\n",
       "6    34   28   78   22  Quality A          0      0\n",
       "10   76   94  107   37  Quality A          0      0\n",
       "12   27  106   57   37  Quality A          0      0\n",
       "13   45   76   56   57  Quality A          0      0\n",
       "16    4   61   72   98  Quality A          0      0\n",
       "17   96  109   75   34  Quality A          0      0\n",
       "21    5  100   32  110  Quality A          0      0\n",
       "22    3   63  109   67  Quality A          0      0\n",
       "24  101  104   95   49  Quality A          0      0\n",
       "25  103   74   59   17  Quality A          0      0\n",
       "28   85   58   44   32  Quality A          0      0\n",
       "29   29   49    6   35        NaN          0      0\n",
       "38   44  104    8   21  Quality A          0      0\n",
       "39  102    5   59   72  Quality A          0      0\n",
       "41   73   22   83   31  Quality A          0      0\n",
       "42   48   68   98   51  Quality A          0      0\n",
       "44   22    9   25   76  Quality A          0      0\n",
       "45   44   90    6    8  Quality A          0      0\n",
       "47   28   91   17   17  Quality A          0      0\n",
       "50   47   44   66   41  Quality A          0      0\n",
       "51  110   33   76    3  Quality A          0      0\n",
       "53   91   13   14   88  Quality A          0      0\n",
       "54   70   96   70  103  Quality A          0      0\n",
       "55  103   60   15   56  Quality A          0      0\n",
       "58   88   39    9  102        NaN          0      0"
      ]
     },
     "execution_count": 26,
     "metadata": {},
     "output_type": "execute_result"
    }
   ],
   "source": [
    "#cluster_0 data\n",
    "manuf_data_df[manuf_data_df['group'] == 0]"
   ]
  },
  {
   "cell_type": "markdown",
   "metadata": {},
   "source": [
    "- As we can see the chemical combination range for non null target column for wine quality A most are below 100. Also observed the null target data the cluster classified the data properly. \n",
    "- So for cluster zero theose rows with target null can be filled with Quality A."
   ]
  },
  {
   "cell_type": "code",
   "execution_count": 27,
   "metadata": {},
   "outputs": [
    {
     "data": {
      "text/html": [
       "<div>\n",
       "<style scoped>\n",
       "    .dataframe tbody tr th:only-of-type {\n",
       "        vertical-align: middle;\n",
       "    }\n",
       "\n",
       "    .dataframe tbody tr th {\n",
       "        vertical-align: top;\n",
       "    }\n",
       "\n",
       "    .dataframe thead th {\n",
       "        text-align: right;\n",
       "    }\n",
       "</style>\n",
       "<table border=\"1\" class=\"dataframe\">\n",
       "  <thead>\n",
       "    <tr style=\"text-align: right;\">\n",
       "      <th></th>\n",
       "      <th>A</th>\n",
       "      <th>B</th>\n",
       "      <th>C</th>\n",
       "      <th>D</th>\n",
       "      <th>Quality</th>\n",
       "      <th>Agg_label</th>\n",
       "      <th>group</th>\n",
       "    </tr>\n",
       "  </thead>\n",
       "  <tbody>\n",
       "    <tr>\n",
       "      <th>1</th>\n",
       "      <td>174</td>\n",
       "      <td>133</td>\n",
       "      <td>134</td>\n",
       "      <td>166</td>\n",
       "      <td>Quality B</td>\n",
       "      <td>1</td>\n",
       "      <td>1</td>\n",
       "    </tr>\n",
       "    <tr>\n",
       "      <th>2</th>\n",
       "      <td>159</td>\n",
       "      <td>163</td>\n",
       "      <td>135</td>\n",
       "      <td>131</td>\n",
       "      <td>NaN</td>\n",
       "      <td>1</td>\n",
       "      <td>1</td>\n",
       "    </tr>\n",
       "    <tr>\n",
       "      <th>5</th>\n",
       "      <td>153</td>\n",
       "      <td>140</td>\n",
       "      <td>154</td>\n",
       "      <td>199</td>\n",
       "      <td>NaN</td>\n",
       "      <td>1</td>\n",
       "      <td>1</td>\n",
       "    </tr>\n",
       "    <tr>\n",
       "      <th>7</th>\n",
       "      <td>191</td>\n",
       "      <td>144</td>\n",
       "      <td>143</td>\n",
       "      <td>154</td>\n",
       "      <td>NaN</td>\n",
       "      <td>1</td>\n",
       "      <td>1</td>\n",
       "    </tr>\n",
       "    <tr>\n",
       "      <th>8</th>\n",
       "      <td>160</td>\n",
       "      <td>181</td>\n",
       "      <td>194</td>\n",
       "      <td>178</td>\n",
       "      <td>Quality B</td>\n",
       "      <td>1</td>\n",
       "      <td>1</td>\n",
       "    </tr>\n",
       "    <tr>\n",
       "      <th>9</th>\n",
       "      <td>145</td>\n",
       "      <td>178</td>\n",
       "      <td>158</td>\n",
       "      <td>141</td>\n",
       "      <td>NaN</td>\n",
       "      <td>1</td>\n",
       "      <td>1</td>\n",
       "    </tr>\n",
       "    <tr>\n",
       "      <th>11</th>\n",
       "      <td>138</td>\n",
       "      <td>200</td>\n",
       "      <td>153</td>\n",
       "      <td>192</td>\n",
       "      <td>Quality B</td>\n",
       "      <td>1</td>\n",
       "      <td>1</td>\n",
       "    </tr>\n",
       "    <tr>\n",
       "      <th>14</th>\n",
       "      <td>186</td>\n",
       "      <td>142</td>\n",
       "      <td>146</td>\n",
       "      <td>174</td>\n",
       "      <td>NaN</td>\n",
       "      <td>1</td>\n",
       "      <td>1</td>\n",
       "    </tr>\n",
       "    <tr>\n",
       "      <th>15</th>\n",
       "      <td>196</td>\n",
       "      <td>145</td>\n",
       "      <td>166</td>\n",
       "      <td>132</td>\n",
       "      <td>Quality B</td>\n",
       "      <td>1</td>\n",
       "      <td>1</td>\n",
       "    </tr>\n",
       "    <tr>\n",
       "      <th>18</th>\n",
       "      <td>167</td>\n",
       "      <td>171</td>\n",
       "      <td>163</td>\n",
       "      <td>191</td>\n",
       "      <td>NaN</td>\n",
       "      <td>1</td>\n",
       "      <td>1</td>\n",
       "    </tr>\n",
       "    <tr>\n",
       "      <th>19</th>\n",
       "      <td>196</td>\n",
       "      <td>178</td>\n",
       "      <td>165</td>\n",
       "      <td>177</td>\n",
       "      <td>Quality B</td>\n",
       "      <td>1</td>\n",
       "      <td>1</td>\n",
       "    </tr>\n",
       "    <tr>\n",
       "      <th>20</th>\n",
       "      <td>159</td>\n",
       "      <td>181</td>\n",
       "      <td>142</td>\n",
       "      <td>166</td>\n",
       "      <td>Quality B</td>\n",
       "      <td>1</td>\n",
       "      <td>1</td>\n",
       "    </tr>\n",
       "    <tr>\n",
       "      <th>23</th>\n",
       "      <td>171</td>\n",
       "      <td>185</td>\n",
       "      <td>181</td>\n",
       "      <td>183</td>\n",
       "      <td>NaN</td>\n",
       "      <td>1</td>\n",
       "      <td>1</td>\n",
       "    </tr>\n",
       "    <tr>\n",
       "      <th>26</th>\n",
       "      <td>170</td>\n",
       "      <td>153</td>\n",
       "      <td>181</td>\n",
       "      <td>176</td>\n",
       "      <td>Quality B</td>\n",
       "      <td>1</td>\n",
       "      <td>1</td>\n",
       "    </tr>\n",
       "    <tr>\n",
       "      <th>27</th>\n",
       "      <td>193</td>\n",
       "      <td>169</td>\n",
       "      <td>199</td>\n",
       "      <td>155</td>\n",
       "      <td>NaN</td>\n",
       "      <td>1</td>\n",
       "      <td>1</td>\n",
       "    </tr>\n",
       "    <tr>\n",
       "      <th>30</th>\n",
       "      <td>135</td>\n",
       "      <td>163</td>\n",
       "      <td>194</td>\n",
       "      <td>168</td>\n",
       "      <td>Quality B</td>\n",
       "      <td>1</td>\n",
       "      <td>1</td>\n",
       "    </tr>\n",
       "    <tr>\n",
       "      <th>31</th>\n",
       "      <td>142</td>\n",
       "      <td>159</td>\n",
       "      <td>176</td>\n",
       "      <td>150</td>\n",
       "      <td>Quality B</td>\n",
       "      <td>1</td>\n",
       "      <td>1</td>\n",
       "    </tr>\n",
       "    <tr>\n",
       "      <th>32</th>\n",
       "      <td>161</td>\n",
       "      <td>138</td>\n",
       "      <td>143</td>\n",
       "      <td>139</td>\n",
       "      <td>NaN</td>\n",
       "      <td>1</td>\n",
       "      <td>1</td>\n",
       "    </tr>\n",
       "    <tr>\n",
       "      <th>33</th>\n",
       "      <td>170</td>\n",
       "      <td>174</td>\n",
       "      <td>190</td>\n",
       "      <td>181</td>\n",
       "      <td>Quality B</td>\n",
       "      <td>1</td>\n",
       "      <td>1</td>\n",
       "    </tr>\n",
       "    <tr>\n",
       "      <th>34</th>\n",
       "      <td>183</td>\n",
       "      <td>142</td>\n",
       "      <td>164</td>\n",
       "      <td>186</td>\n",
       "      <td>Quality B</td>\n",
       "      <td>1</td>\n",
       "      <td>1</td>\n",
       "    </tr>\n",
       "    <tr>\n",
       "      <th>35</th>\n",
       "      <td>181</td>\n",
       "      <td>147</td>\n",
       "      <td>174</td>\n",
       "      <td>130</td>\n",
       "      <td>NaN</td>\n",
       "      <td>1</td>\n",
       "      <td>1</td>\n",
       "    </tr>\n",
       "    <tr>\n",
       "      <th>36</th>\n",
       "      <td>185</td>\n",
       "      <td>168</td>\n",
       "      <td>160</td>\n",
       "      <td>151</td>\n",
       "      <td>Quality B</td>\n",
       "      <td>1</td>\n",
       "      <td>1</td>\n",
       "    </tr>\n",
       "    <tr>\n",
       "      <th>37</th>\n",
       "      <td>132</td>\n",
       "      <td>157</td>\n",
       "      <td>174</td>\n",
       "      <td>138</td>\n",
       "      <td>Quality B</td>\n",
       "      <td>1</td>\n",
       "      <td>1</td>\n",
       "    </tr>\n",
       "    <tr>\n",
       "      <th>40</th>\n",
       "      <td>179</td>\n",
       "      <td>143</td>\n",
       "      <td>189</td>\n",
       "      <td>177</td>\n",
       "      <td>NaN</td>\n",
       "      <td>1</td>\n",
       "      <td>1</td>\n",
       "    </tr>\n",
       "    <tr>\n",
       "      <th>43</th>\n",
       "      <td>169</td>\n",
       "      <td>184</td>\n",
       "      <td>200</td>\n",
       "      <td>133</td>\n",
       "      <td>Quality B</td>\n",
       "      <td>1</td>\n",
       "      <td>1</td>\n",
       "    </tr>\n",
       "    <tr>\n",
       "      <th>46</th>\n",
       "      <td>197</td>\n",
       "      <td>173</td>\n",
       "      <td>165</td>\n",
       "      <td>197</td>\n",
       "      <td>NaN</td>\n",
       "      <td>1</td>\n",
       "      <td>1</td>\n",
       "    </tr>\n",
       "    <tr>\n",
       "      <th>48</th>\n",
       "      <td>197</td>\n",
       "      <td>161</td>\n",
       "      <td>182</td>\n",
       "      <td>198</td>\n",
       "      <td>Quality B</td>\n",
       "      <td>1</td>\n",
       "      <td>1</td>\n",
       "    </tr>\n",
       "    <tr>\n",
       "      <th>49</th>\n",
       "      <td>136</td>\n",
       "      <td>199</td>\n",
       "      <td>189</td>\n",
       "      <td>141</td>\n",
       "      <td>Quality B</td>\n",
       "      <td>1</td>\n",
       "      <td>1</td>\n",
       "    </tr>\n",
       "    <tr>\n",
       "      <th>52</th>\n",
       "      <td>188</td>\n",
       "      <td>178</td>\n",
       "      <td>175</td>\n",
       "      <td>162</td>\n",
       "      <td>NaN</td>\n",
       "      <td>1</td>\n",
       "      <td>1</td>\n",
       "    </tr>\n",
       "    <tr>\n",
       "      <th>56</th>\n",
       "      <td>200</td>\n",
       "      <td>186</td>\n",
       "      <td>185</td>\n",
       "      <td>179</td>\n",
       "      <td>Quality B</td>\n",
       "      <td>1</td>\n",
       "      <td>1</td>\n",
       "    </tr>\n",
       "    <tr>\n",
       "      <th>57</th>\n",
       "      <td>137</td>\n",
       "      <td>182</td>\n",
       "      <td>165</td>\n",
       "      <td>199</td>\n",
       "      <td>NaN</td>\n",
       "      <td>1</td>\n",
       "      <td>1</td>\n",
       "    </tr>\n",
       "    <tr>\n",
       "      <th>59</th>\n",
       "      <td>180</td>\n",
       "      <td>157</td>\n",
       "      <td>192</td>\n",
       "      <td>198</td>\n",
       "      <td>NaN</td>\n",
       "      <td>1</td>\n",
       "      <td>1</td>\n",
       "    </tr>\n",
       "    <tr>\n",
       "      <th>60</th>\n",
       "      <td>157</td>\n",
       "      <td>135</td>\n",
       "      <td>135</td>\n",
       "      <td>156</td>\n",
       "      <td>NaN</td>\n",
       "      <td>1</td>\n",
       "      <td>1</td>\n",
       "    </tr>\n",
       "  </tbody>\n",
       "</table>\n",
       "</div>"
      ],
      "text/plain": [
       "      A    B    C    D    Quality  Agg_label  group\n",
       "1   174  133  134  166  Quality B          1      1\n",
       "2   159  163  135  131        NaN          1      1\n",
       "5   153  140  154  199        NaN          1      1\n",
       "7   191  144  143  154        NaN          1      1\n",
       "8   160  181  194  178  Quality B          1      1\n",
       "9   145  178  158  141        NaN          1      1\n",
       "11  138  200  153  192  Quality B          1      1\n",
       "14  186  142  146  174        NaN          1      1\n",
       "15  196  145  166  132  Quality B          1      1\n",
       "18  167  171  163  191        NaN          1      1\n",
       "19  196  178  165  177  Quality B          1      1\n",
       "20  159  181  142  166  Quality B          1      1\n",
       "23  171  185  181  183        NaN          1      1\n",
       "26  170  153  181  176  Quality B          1      1\n",
       "27  193  169  199  155        NaN          1      1\n",
       "30  135  163  194  168  Quality B          1      1\n",
       "31  142  159  176  150  Quality B          1      1\n",
       "32  161  138  143  139        NaN          1      1\n",
       "33  170  174  190  181  Quality B          1      1\n",
       "34  183  142  164  186  Quality B          1      1\n",
       "35  181  147  174  130        NaN          1      1\n",
       "36  185  168  160  151  Quality B          1      1\n",
       "37  132  157  174  138  Quality B          1      1\n",
       "40  179  143  189  177        NaN          1      1\n",
       "43  169  184  200  133  Quality B          1      1\n",
       "46  197  173  165  197        NaN          1      1\n",
       "48  197  161  182  198  Quality B          1      1\n",
       "49  136  199  189  141  Quality B          1      1\n",
       "52  188  178  175  162        NaN          1      1\n",
       "56  200  186  185  179  Quality B          1      1\n",
       "57  137  182  165  199        NaN          1      1\n",
       "59  180  157  192  198        NaN          1      1\n",
       "60  157  135  135  156        NaN          1      1"
      ]
     },
     "execution_count": 27,
     "metadata": {},
     "output_type": "execute_result"
    }
   ],
   "source": [
    "## Cluster One\n",
    "manuf_data_df[manuf_data_df['group'] == 1]"
   ]
  },
  {
   "cell_type": "markdown",
   "metadata": {},
   "source": [
    "- As we can see the chemical combination range for non null target column for wine quality B, most are above 100. Also observed the null target data cluster classified the data properly. \n",
    "- So for cluster One, theose rows with target null can be filled with Quality B."
   ]
  },
  {
   "cell_type": "markdown",
   "metadata": {},
   "source": [
    "### Note:\n",
    "- **As we observed both hierachical and K-Mean clustering grouping the data points exactly same. so i ll be dropping one cluser label.**"
   ]
  },
  {
   "cell_type": "code",
   "execution_count": 28,
   "metadata": {},
   "outputs": [],
   "source": [
    "#drop Agg_label label\n",
    "manuf_data_df.drop('Agg_label', axis = 1, inplace= True)"
   ]
  },
  {
   "cell_type": "markdown",
   "metadata": {},
   "source": [
    "### Take backup of original data"
   ]
  },
  {
   "cell_type": "code",
   "execution_count": 29,
   "metadata": {},
   "outputs": [],
   "source": [
    "#take one copy of the manuf_data_df\n",
    "manuf_data_df_bk = manuf_data_df.copy()\n",
    "\n",
    "# #drop the null value \n",
    "manuf_data_df = manuf_data_df.dropna()"
   ]
  },
  {
   "cell_type": "markdown",
   "metadata": {},
   "source": [
    "## Replace Target column with numeric value"
   ]
  },
  {
   "cell_type": "code",
   "execution_count": 30,
   "metadata": {},
   "outputs": [],
   "source": [
    "## Covert Quality into numeric\n",
    "label_encoding = {\"Quality\": {\n",
    "                    \"Quality A\": 0,\n",
    "                    \"Quality B\": 1\n",
    "                    }  \n",
    "                 }\n",
    "\n",
    "for column, val_mapping in label_encoding.items():\n",
    "    manuf_data_df[column] = manuf_data_df[column].apply(lambda i: val_mapping[i])"
   ]
  },
  {
   "cell_type": "markdown",
   "metadata": {},
   "source": [
    "- \"Quality A\" replaced with 0 and \"Quality B\" replace with 1, for check the quality column and the cluster goup similarity are statistically significat or not."
   ]
  },
  {
   "cell_type": "markdown",
   "metadata": {},
   "source": [
    "### Chi Square test:\n",
    "- check quality and grop variable are having similarity data or not."
   ]
  },
  {
   "cell_type": "code",
   "execution_count": 31,
   "metadata": {},
   "outputs": [
    {
     "name": "stdout",
     "output_type": "stream",
     "text": [
      "Hypothesis Testing of Categorical Variables Independence\n",
      "--------------------------------------------------------\n",
      "H0: Two variables are not similar.\n",
      "Ha: Two variables are similar. \n",
      "\n",
      "Quality   0   1\n",
      "group          \n",
      "0        26   0\n",
      "1         0  17\n",
      "\n",
      " chi Squre: 38.91848421408243 \n",
      " p value: 4.4187671236335195e-10 \n",
      " dof: 1 \n",
      " expected:\n",
      "  [[15.72093023 10.27906977]\n",
      " [10.27906977  6.72093023]] \n",
      "\n",
      "Hypothesis Testing of Categorical Variables Independence result:\n",
      "------------------------------------------------------------------\n",
      "Two variables are Similar (reject H0)\n"
     ]
    }
   ],
   "source": [
    "#Import the scientific package (scipy and chi2_contingency)\n",
    "import scipy.stats as stats\n",
    "from scipy.stats import chi2_contingency\n",
    "\n",
    "class ChiSquare:\n",
    "    def __init__(self, dataframe):\n",
    "        self.df = dataframe\n",
    "        self.p = None     #P-Value\n",
    "        self.chi2 = None  #Chi Test Statistic\n",
    "        self.dof = None\n",
    "        \n",
    "        self.df_Observed = None\n",
    "        self.df_Expected = None\n",
    "        \n",
    "        #Hypothese\n",
    "        print('Hypothesis Testing of Categorical Variables Independence')\n",
    "        print('--------------------------------------------------------')\n",
    "        print('H0: Two variables are not similar.')\n",
    "        print('Ha: Two variables are similar. \\n')\n",
    "        \n",
    "    def chisquare_test_result(self, colX, alpha):\n",
    "        print('Hypothesis Testing of Categorical Variables Independence result:')\n",
    "        print('------------------------------------------------------------------')\n",
    "        if self.p < alpha:\n",
    "            print('Two variables are Similar (reject H0)')\n",
    "        else:\n",
    "            print('Two variables are not similar (fail to reject H0)')\n",
    "        \n",
    "    def test_independence(self, colX, colY, alpha=0.05):\n",
    "        X = self.df[colX].astype(str)\n",
    "        Y = self.df[colY].astype(str)\n",
    "        self.df_Observed = pd.crosstab(Y, X) \n",
    "        \n",
    "        #print the cross tabvalue\n",
    "        print(self.df_Observed)\n",
    "        \n",
    "        chi2, p, dof, expected = stats.chi2_contingency(self.df_Observed.values)\n",
    "        self.p = p\n",
    "        self.chi2 = chi2\n",
    "        self.dof = dof \n",
    "        \n",
    "        p_value= p  #\"{:.15f}\".format(float(p))\n",
    "        print('\\n chi Squre:', chi2, '\\n p value:', p_value, '\\n dof:', dof, '\\n expected:\\n ', expected, '\\n')\n",
    "        self.df_Expected = pd.DataFrame(expected, columns=self.df_Observed.columns, index = self.df_Observed.index)\n",
    "        \n",
    "        #print the result of chisqurare stats\n",
    "        self.chisquare_test_result(colX, alpha)\n",
    "\n",
    "df = manuf_data_df\n",
    "\n",
    "#Initialize ChiSquare Class\n",
    "ct = ChiSquare(df)\n",
    "\n",
    "#Feature Selection\n",
    "ct.test_independence(colX=\"Quality\", colY=\"group\" ) "
   ]
  },
  {
   "cell_type": "markdown",
   "metadata": {},
   "source": [
    "- **we have done the hypothesis testing with 95% confidence lavel.**\n",
    "- **As p value is very less(nearer to zero) so we concluded both quality and group(column added based on clustering) are having similar information.**\n",
    "- **So we can replace null values present in Quality column with respect to cluster it belongs.**"
   ]
  },
  {
   "cell_type": "code",
   "execution_count": 32,
   "metadata": {},
   "outputs": [],
   "source": [
    "##Final output dataframe\n",
    "final_manufacture_data = manuf_data_df_bk.copy()"
   ]
  },
  {
   "cell_type": "code",
   "execution_count": 33,
   "metadata": {},
   "outputs": [
    {
     "data": {
      "text/html": [
       "<div>\n",
       "<style scoped>\n",
       "    .dataframe tbody tr th:only-of-type {\n",
       "        vertical-align: middle;\n",
       "    }\n",
       "\n",
       "    .dataframe tbody tr th {\n",
       "        vertical-align: top;\n",
       "    }\n",
       "\n",
       "    .dataframe thead th {\n",
       "        text-align: right;\n",
       "    }\n",
       "</style>\n",
       "<table border=\"1\" class=\"dataframe\">\n",
       "  <thead>\n",
       "    <tr style=\"text-align: right;\">\n",
       "      <th></th>\n",
       "      <th>A</th>\n",
       "      <th>B</th>\n",
       "      <th>C</th>\n",
       "      <th>D</th>\n",
       "      <th>Quality</th>\n",
       "      <th>group</th>\n",
       "    </tr>\n",
       "  </thead>\n",
       "  <tbody>\n",
       "    <tr>\n",
       "      <th>0</th>\n",
       "      <td>47</td>\n",
       "      <td>27</td>\n",
       "      <td>45</td>\n",
       "      <td>108</td>\n",
       "      <td>Quality A</td>\n",
       "      <td>0</td>\n",
       "    </tr>\n",
       "    <tr>\n",
       "      <th>1</th>\n",
       "      <td>174</td>\n",
       "      <td>133</td>\n",
       "      <td>134</td>\n",
       "      <td>166</td>\n",
       "      <td>Quality B</td>\n",
       "      <td>1</td>\n",
       "    </tr>\n",
       "    <tr>\n",
       "      <th>2</th>\n",
       "      <td>159</td>\n",
       "      <td>163</td>\n",
       "      <td>135</td>\n",
       "      <td>131</td>\n",
       "      <td>NaN</td>\n",
       "      <td>1</td>\n",
       "    </tr>\n",
       "    <tr>\n",
       "      <th>3</th>\n",
       "      <td>61</td>\n",
       "      <td>23</td>\n",
       "      <td>3</td>\n",
       "      <td>44</td>\n",
       "      <td>Quality A</td>\n",
       "      <td>0</td>\n",
       "    </tr>\n",
       "    <tr>\n",
       "      <th>4</th>\n",
       "      <td>59</td>\n",
       "      <td>60</td>\n",
       "      <td>9</td>\n",
       "      <td>68</td>\n",
       "      <td>Quality A</td>\n",
       "      <td>0</td>\n",
       "    </tr>\n",
       "  </tbody>\n",
       "</table>\n",
       "</div>"
      ],
      "text/plain": [
       "     A    B    C    D    Quality  group\n",
       "0   47   27   45  108  Quality A      0\n",
       "1  174  133  134  166  Quality B      1\n",
       "2  159  163  135  131        NaN      1\n",
       "3   61   23    3   44  Quality A      0\n",
       "4   59   60    9   68  Quality A      0"
      ]
     },
     "execution_count": 33,
     "metadata": {},
     "output_type": "execute_result"
    }
   ],
   "source": [
    "final_manufacture_data.head()"
   ]
  },
  {
   "cell_type": "markdown",
   "metadata": {},
   "source": [
    "#### Covert the Quality column like as before (Quality A and Quality B) and replace null value as for the cluster it belongs."
   ]
  },
  {
   "cell_type": "code",
   "execution_count": 34,
   "metadata": {},
   "outputs": [],
   "source": [
    "## Covert Quality into numeric\n",
    "label_encoding1 = {\"group\": {\n",
    "                    0:\"Quality A\",\n",
    "                    1:\"Quality B\"\n",
    "                    }  \n",
    "                 }\n",
    "\n",
    "for column, val_mapping in label_encoding1.items():\n",
    "    final_manufacture_data[column] = final_manufacture_data[column].apply(lambda i: val_mapping[i])"
   ]
  },
  {
   "cell_type": "code",
   "execution_count": 35,
   "metadata": {},
   "outputs": [],
   "source": [
    "final_manufacture_data.Quality = np.where(final_manufacture_data.Quality.isnull(), \n",
    "                                       final_manufacture_data.group, \n",
    "                                       final_manufacture_data.Quality)"
   ]
  },
  {
   "cell_type": "code",
   "execution_count": 36,
   "metadata": {},
   "outputs": [
    {
     "data": {
      "text/html": [
       "<div>\n",
       "<style scoped>\n",
       "    .dataframe tbody tr th:only-of-type {\n",
       "        vertical-align: middle;\n",
       "    }\n",
       "\n",
       "    .dataframe tbody tr th {\n",
       "        vertical-align: top;\n",
       "    }\n",
       "\n",
       "    .dataframe thead th {\n",
       "        text-align: right;\n",
       "    }\n",
       "</style>\n",
       "<table border=\"1\" class=\"dataframe\">\n",
       "  <thead>\n",
       "    <tr style=\"text-align: right;\">\n",
       "      <th></th>\n",
       "      <th>A</th>\n",
       "      <th>B</th>\n",
       "      <th>C</th>\n",
       "      <th>D</th>\n",
       "      <th>Quality</th>\n",
       "      <th>group</th>\n",
       "    </tr>\n",
       "  </thead>\n",
       "  <tbody>\n",
       "    <tr>\n",
       "      <th>0</th>\n",
       "      <td>47</td>\n",
       "      <td>27</td>\n",
       "      <td>45</td>\n",
       "      <td>108</td>\n",
       "      <td>Quality A</td>\n",
       "      <td>Quality A</td>\n",
       "    </tr>\n",
       "    <tr>\n",
       "      <th>1</th>\n",
       "      <td>174</td>\n",
       "      <td>133</td>\n",
       "      <td>134</td>\n",
       "      <td>166</td>\n",
       "      <td>Quality B</td>\n",
       "      <td>Quality B</td>\n",
       "    </tr>\n",
       "    <tr>\n",
       "      <th>2</th>\n",
       "      <td>159</td>\n",
       "      <td>163</td>\n",
       "      <td>135</td>\n",
       "      <td>131</td>\n",
       "      <td>Quality B</td>\n",
       "      <td>Quality B</td>\n",
       "    </tr>\n",
       "    <tr>\n",
       "      <th>3</th>\n",
       "      <td>61</td>\n",
       "      <td>23</td>\n",
       "      <td>3</td>\n",
       "      <td>44</td>\n",
       "      <td>Quality A</td>\n",
       "      <td>Quality A</td>\n",
       "    </tr>\n",
       "    <tr>\n",
       "      <th>4</th>\n",
       "      <td>59</td>\n",
       "      <td>60</td>\n",
       "      <td>9</td>\n",
       "      <td>68</td>\n",
       "      <td>Quality A</td>\n",
       "      <td>Quality A</td>\n",
       "    </tr>\n",
       "  </tbody>\n",
       "</table>\n",
       "</div>"
      ],
      "text/plain": [
       "     A    B    C    D    Quality      group\n",
       "0   47   27   45  108  Quality A  Quality A\n",
       "1  174  133  134  166  Quality B  Quality B\n",
       "2  159  163  135  131  Quality B  Quality B\n",
       "3   61   23    3   44  Quality A  Quality A\n",
       "4   59   60    9   68  Quality A  Quality A"
      ]
     },
     "execution_count": 36,
     "metadata": {},
     "output_type": "execute_result"
    }
   ],
   "source": [
    "##View the data after handle the null value in Quality column\n",
    "final_manufacture_data.head()"
   ]
  },
  {
   "cell_type": "code",
   "execution_count": 37,
   "metadata": {},
   "outputs": [
    {
     "data": {
      "text/plain": [
       "A          0\n",
       "B          0\n",
       "C          0\n",
       "D          0\n",
       "Quality    0\n",
       "group      0\n",
       "dtype: int64"
      ]
     },
     "execution_count": 37,
     "metadata": {},
     "output_type": "execute_result"
    }
   ],
   "source": [
    "#Check null value\n",
    "final_manufacture_data.isnull().sum()"
   ]
  },
  {
   "cell_type": "markdown",
   "metadata": {},
   "source": [
    "- **Ther is no null value now in the target column. It replace with the valure as for group column.**\n",
    "- **Now the target column have the proper information, so this data finally can be used for model development.**"
   ]
  },
  {
   "cell_type": "code",
   "execution_count": 38,
   "metadata": {},
   "outputs": [
    {
     "name": "stdout",
     "output_type": "stream",
     "text": [
      "Quality B    33\n",
      "Quality A    28\n",
      "Name: Quality, dtype: int64\n"
     ]
    },
    {
     "data": {
      "text/plain": [
       "<AxesSubplot:>"
      ]
     },
     "execution_count": 38,
     "metadata": {},
     "output_type": "execute_result"
    },
    {
     "data": {
      "image/png": "[encoded data removed]",
      "text/plain": [
       "<Figure size 432x288 with 1 Axes>"
      ]
     },
     "metadata": {},
     "output_type": "display_data"
    }
   ],
   "source": [
    "#check the data distribution of Qaulity variable\n",
    "print(final_manufacture_data['Quality'].value_counts())\n",
    "final_manufacture_data['Quality'].value_counts().plot(kind='bar')"
   ]
  },
  {
   "cell_type": "markdown",
   "metadata": {},
   "source": [
    "- The Quality column data null value imputed based on the clustering. \n",
    "- \"Quality A\" have 28 data points and \"Quality B\" have 33 data points."
   ]
  }
 ],
 "metadata": {
  "kernelspec": {
   "display_name": "Python 3",
   "language": "python",
   "name": "python3"
  },
  "language_info": {
   "codemirror_mode": {
    "name": "ipython",
    "version": 3
   },
   "file_extension": ".py",
   "mimetype": "text/x-python",
   "name": "python",
   "nbconvert_exporter": "python",
   "pygments_lexer": "ipython3",
   "version": "3.8.5"
  }
 },
 "nbformat": 4,
 "nbformat_minor": 4
}
